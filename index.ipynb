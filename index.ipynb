{
 "cells": [
  {
   "cell_type": "markdown",
   "id": "b1649e7d-bb68-4b44-8057-32dcba050706",
   "metadata": {},
   "source": [
    "# Data Preprocessing"
   ]
  },
  {
   "cell_type": "code",
   "execution_count": 1,
   "id": "626ea9f9",
   "metadata": {},
   "outputs": [],
   "source": [
    "import pandas as pd\n",
    "\n",
    "# Load data\n",
    "articles = pd.read_csv(\"articles.csv\")\n",
    "customers = pd.read_csv(\"customers.csv\")\n",
    "transactions = pd.read_csv(\"transactions_train.csv\")\n",
    "\n",
    "# Merge transactions with articles to get purchase details\n",
    "purchases = transactions.merge(articles, on=\"article_id\")\n",
    "\n",
    "# Aggregate purchase history for each customer\n",
    "customer_history = purchases.groupby(\"customer_id\").agg(\n",
    "    top_colors=(\"colour_group_name\", lambda x: x.mode()[0]),\n",
    "    top_garments=(\"garment_group_name\", lambda x: x.mode()[0]),\n",
    "    purchase_count=(\"article_id\", \"count\")\n",
    ").reset_index()\n",
    "\n",
    "# Merge with customer metadata\n",
    "customers = customers.merge(customer_history, on=\"customer_id\", how=\"left\")\n",
    "\n",
    "# Clean data (handle missing age/history)\n",
    "customers[\"age\"] = customers[\"age\"].fillna(customers[\"age\"].median())\n",
    "customers[\"top_colors\"] = customers[\"top_colors\"].fillna(\"unknown\")\n",
    "customers[\"top_garments\"] = customers[\"top_garments\"].fillna(\"unknown\")"
   ]
  },
  {
   "cell_type": "markdown",
   "id": "40b467d2-8ad7-47ca-8180-9072adaa37c3",
   "metadata": {},
   "source": [
    "# Generate embeddings for customers and articles"
   ]
  },
  {
   "cell_type": "code",
   "execution_count": null,
   "id": "1c4585ba-0c90-4b0e-87fb-d56f92eb90bb",
   "metadata": {},
   "outputs": [],
   "source": [
    "from sentence_transformers import SentenceTransformer\n",
    "\n",
    "model = SentenceTransformer(\"all-MiniLM-L6-v2\")\n",
    "\n",
    "# Customer descriptions (e.g., \"Age 28, club member: ACTIVE. Often buys: Black Jeans\")\n",
    "customers[\"text\"] = customers.apply(\n",
    "    lambda row: f\"Age {int(row['age'])}, club member: {row['club_member_status']}. \" \\\n",
    "                f\"Frequently purchases: {row['top_colors']} {row['top_garments']}.\",\n",
    "    axis=1\n",
    ")\n",
    "\n",
    "# Article descriptions (e.g., \"Black Jeans, Casual Bottom. Details: Stretchable denim...\")\n",
    "articles[\"text\"] = articles.apply(\n",
    "    lambda row: f\"{row['colour_group_name']} {row['product_type_name']}, \" \\\n",
    "                f\"{row['garment_group_name']}. Details: {row['detail_desc']}\",\n",
    "    axis=1\n",
    ")\n",
    "\n",
    "# Generate embeddings\n",
    "customer_embeddings = model.encode(customers[\"text\"].tolist())\n",
    "article_embeddings = model.encode(articles[\"text\"].tolist())"
   ]
  },
  {
   "cell_type": "code",
   "execution_count": 3,
   "id": "5a424d0e-5402-4cf5-8c64-a92ea2c99848",
   "metadata": {},
   "outputs": [
    {
     "name": "stdout",
     "output_type": "stream",
     "text": [
      "[[-0.02797653  0.07051973 -0.05869647 ... -0.05855928 -0.10431531\n",
      "  -0.02881365]\n",
      " [-0.027063    0.01821919 -0.01693011 ... -0.13709706 -0.06905062\n",
      "   0.02507331]\n",
      " [-0.03677861  0.02284298 -0.04318574 ... -0.11188638 -0.05914948\n",
      "  -0.02920037]\n",
      " ...\n",
      " [-0.03673286  0.06444747 -0.0497928  ... -0.05970166 -0.09897787\n",
      "  -0.02091572]\n",
      " [-0.03069127  0.00627806 -0.0019699  ... -0.10621992 -0.05224483\n",
      "   0.00457215]\n",
      " [-0.02795942  0.00421076 -0.06229747 ... -0.10586537 -0.05249738\n",
      "  -0.01472464]]\n",
      "\n",
      "[[-0.04593923  0.11852942 -0.02479955 ... -0.01646774 -0.07933109\n",
      "   0.0530654 ]\n",
      " [-0.02130283  0.12884027 -0.00710012 ...  0.01478944 -0.05145642\n",
      "   0.04764028]\n",
      " [-0.02877827  0.1323706  -0.00681566 ...  0.01599214 -0.07031216\n",
      "   0.04941762]\n",
      " ...\n",
      " [-0.07343706  0.11924972 -0.01072632 ... -0.01446385 -0.06523024\n",
      "  -0.04872168]\n",
      " [-0.12494753  0.0708767   0.07486433 ... -0.08998467 -0.03891225\n",
      "   0.0947194 ]\n",
      " [ 0.00733496  0.09287497  0.03617004 ... -0.06707434 -0.02687085\n",
      "  -0.08259148]]\n"
     ]
    }
   ],
   "source": [
    "print(customer_embeddings)\n",
    "print()\n",
    "print(article_embeddings)"
   ]
  },
  {
   "cell_type": "markdown",
   "id": "9651c25e-8f61-448a-8718-fe56bfdaac17",
   "metadata": {},
   "source": [
    "# Build FAISS Index for Articles"
   ]
  },
  {
   "cell_type": "code",
   "execution_count": 4,
   "id": "6e5370b0-c593-4007-8281-19ecb22ab1c2",
   "metadata": {},
   "outputs": [],
   "source": [
    "import faiss\n",
    "import numpy as np\n",
    "\n",
    "# Convert to FAISS-compatible format\n",
    "article_embeddings = np.array(article_embeddings).astype(\"float32\")\n",
    "\n",
    "# Create FAISS index\n",
    "dimension = article_embeddings.shape[1]\n",
    "index = faiss.IndexFlatL2(dimension)\n",
    "index.add(article_embeddings)"
   ]
  },
  {
   "cell_type": "markdown",
   "id": "00f1f8ef-15e1-43fc-b4b1-f4b95e3b095c",
   "metadata": {},
   "source": [
    "# Recommendation Function"
   ]
  },
  {
   "cell_type": "code",
   "execution_count": 7,
   "id": "b4add5d3-e2ea-40b5-9518-fafd6baef8c1",
   "metadata": {},
   "outputs": [
    {
     "name": "stdout",
     "output_type": "stream",
     "text": [
      "       article_id                                               text\n",
      "85655   820541001  Black Top, Jersey Fancy. Details: Fitted body ...\n",
      "5621    497741001  Black T-shirt, Jersey Fancy. Details: T-shirt ...\n",
      "11793   549850001  Black T-shirt, Jersey Fancy. Details: Heavily ...\n",
      "6462    506166005  Black T-shirt, Jersey Fancy. Details: Short-sl...\n",
      "6477    506166058  Black T-shirt, Jersey Fancy. Details: Short-sl...\n"
     ]
    }
   ],
   "source": [
    "def recommend_clothes(customer_id, top_k=5):\n",
    "    # Check if customer exists\n",
    "    customer_data = customers[customers[\"customer_id\"] == customer_id]\n",
    "    if customer_data.empty:\n",
    "        return f\"No customer found with ID: {customer_id}\"\n",
    "    # Get customer embedding\n",
    "    customer_idx = customers[customers[\"customer_id\"] == customer_id].index[0]\n",
    "    query_embedding = customer_embeddings[customer_idx].reshape(1, -1)\n",
    "    \n",
    "    # Search FAISS\n",
    "    distances, indices = index.search(query_embedding, top_k)\n",
    "    \n",
    "    # Get recommended articles\n",
    "    recommendations = articles.iloc[indices[0]][[\"article_id\", \"text\"]]\n",
    "    return recommendations\n",
    "\n",
    "# Example usage\n",
    "print(recommend_clothes(\"00000dbacae5abe5e23885899a1fa44253a17956c6d1c3d25f88aa139fdfc657\"))"
   ]
  }
 ],
 "metadata": {
  "kernelspec": {
   "display_name": "Python 3",
   "language": "python",
   "name": "python3"
  },
  "language_info": {
   "codemirror_mode": {
    "name": "ipython",
    "version": 3
   },
   "file_extension": ".py",
   "mimetype": "text/x-python",
   "name": "python",
   "nbconvert_exporter": "python",
   "pygments_lexer": "ipython3",
   "version": "3.13.3"
  }
 },
 "nbformat": 4,
 "nbformat_minor": 5
}
